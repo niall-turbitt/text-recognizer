{
 "cells": [
  {
   "cell_type": "code",
   "execution_count": null,
   "metadata": {},
   "outputs": [],
   "source": [
    "%reload_ext autoreload\n",
    "\n",
    "import os\n",
    "import sys\n",
    "import random\n",
    "\n",
    "import torch\n",
    "import numpy as np\n",
    "import matplotlib.pyplot as plt\n",
    "\n",
    "# Append python path - needed to import text_recognizer\n",
    "module_path = os.path.abspath(os.path.join('..'))\n",
    "if module_path not in sys.path:\n",
    "    sys.path.append(module_path)"
   ]
  },
  {
   "cell_type": "code",
   "execution_count": null,
   "metadata": {},
   "outputs": [],
   "source": [
    "\n",
    "import text_recognizer.data\n",
    "import text_recognizer.models\n",
    "import text_recognizer.lit_models\n",
    "\n",
    "from text_recognizer.metadata.iam_paragraphs import IMAGE_HEIGHT, IMAGE_WIDTH\n"
   ]
  },
  {
   "cell_type": "markdown",
   "metadata": {},
   "source": [
    "### IAM Paragraphs dataset"
   ]
  },
  {
   "cell_type": "code",
   "execution_count": null,
   "metadata": {},
   "outputs": [],
   "source": [
    "iam_paragraphs = text_recognizer.data.IAMParagraphs()\n",
    "\n",
    "iam_paragraphs.prepare_data()\n",
    "iam_paragraphs.setup()\n",
    "x, y = next(iter(iam_paragraphs.val_dataloader()))\n",
    "\n",
    "iam_paragraphs"
   ]
  },
  {
   "cell_type": "code",
   "execution_count": null,
   "metadata": {},
   "outputs": [],
   "source": [
    "def show(y):\n",
    "    y = y.detach().cpu()  # bring back from accelerator if it's being used\n",
    "    return \"\".join(np.array(iam_paragraphs.mapping)[y]).replace(\"<P>\", \"\")\n",
    "\n",
    "idx = random.randint(0, len(x))\n",
    "\n",
    "print(show(y[idx]))\n",
    "plt.imshow(x[idx].view(IMAGE_HEIGHT, IMAGE_WIDTH), cmap='Greys_r')\n",
    "plt.axis(\"off\");"
   ]
  },
  {
   "cell_type": "markdown",
   "metadata": {},
   "source": [
    "### ResNet Transformer"
   ]
  },
  {
   "cell_type": "code",
   "execution_count": null,
   "metadata": {},
   "outputs": [],
   "source": [
    "rnt = text_recognizer.models.ResnetTransformer(data_config=iam_paragraphs.config())"
   ]
  },
  {
   "cell_type": "code",
   "execution_count": null,
   "metadata": {},
   "outputs": [],
   "source": [
    "# Cast to GPU if available\n",
    "device = torch.device(\"cuda\") if torch.cuda.is_available() else torch.device(\"cpu\")\n",
    "\n",
    "rnt.to(device); x = x.to(device); y = y.to(device);"
   ]
  },
  {
   "cell_type": "code",
   "execution_count": null,
   "metadata": {},
   "outputs": [],
   "source": [
    "# Pass single input through encoder\n",
    "\n",
    "# ResNet is designed for RGB images, replicate the input across channels 3 times\n",
    "resnet_embedding, = rnt.resnet(x[idx:idx+1].repeat(1, 3, 1, 1))\n",
    "\n",
    "resnet_idx = random.randint(0, len(resnet_embedding))  # re-execute to view a different channel\n",
    "plt.matshow(resnet_embedding[resnet_idx].detach().cpu(), cmap=\"Greys_r\");\n",
    "plt.axis(\"off\"); plt.colorbar(fraction=0.05);"
   ]
  },
  {
   "cell_type": "code",
   "execution_count": null,
   "metadata": {},
   "outputs": [],
   "source": [
    "preds, = rnt(x[idx:idx+1])"
   ]
  },
  {
   "cell_type": "code",
   "execution_count": null,
   "metadata": {},
   "outputs": [],
   "source": [
    "# Prediction from untrained model\n",
    "print(show(preds.cpu()))\n",
    "plt.imshow(x[idx].view(IMAGE_HEIGHT, IMAGE_WIDTH), cmap='Greys_r')\n",
    "plt.axis(\"off\");"
   ]
  },
  {
   "cell_type": "markdown",
   "metadata": {},
   "source": [
    "### TransformerLitModel"
   ]
  },
  {
   "cell_type": "code",
   "execution_count": null,
   "metadata": {},
   "outputs": [],
   "source": [
    "import text_recognizer.lit_models\n",
    "\n",
    "lit_rnt = text_recognizer.lit_models.TransformerLitModel(rnt)"
   ]
  },
  {
   "cell_type": "code",
   "execution_count": null,
   "metadata": {},
   "outputs": [],
   "source": [
    "forcing_outs, = lit_rnt.teacher_forward(x[idx:idx+1], y[idx:idx+1])"
   ]
  },
  {
   "cell_type": "code",
   "execution_count": null,
   "metadata": {},
   "outputs": [],
   "source": [
    "forcing_preds = torch.argmax(forcing_outs, dim=0)\n",
    "\n",
    "print(show(forcing_preds.cpu()))\n",
    "plt.imshow(x[idx].view(IMAGE_HEIGHT, IMAGE_WIDTH), cmap='Greys_r')\n",
    "plt.axis(\"off\");"
   ]
  },
  {
   "cell_type": "markdown",
   "metadata": {},
   "source": [
    "### Run Experiment - ResNet Transformer - IAM Paragraphs"
   ]
  },
  {
   "cell_type": "code",
   "execution_count": null,
   "metadata": {},
   "outputs": [],
   "source": [
    "%run ../training/run_experiment.py --data_class IAMParagraphs --model_class ResnetTransformer --loss transformer \\\n",
    "  --fast_dev_run True --log_every_n_steps 1 --limit_test_batches 0 --accelerator 'auto' \\\n",
    "  --max_epochs 1 --batch_size 16 --precision 'bf16' \\\n",
    "  --limit_train_batches 1 --limit_val_batches 1 "
   ]
  }
 ],
 "metadata": {
  "kernelspec": {
   "display_name": "text-recognizer",
   "language": "python",
   "name": "python3"
  },
  "language_info": {
   "codemirror_mode": {
    "name": "ipython",
    "version": 3
   },
   "file_extension": ".py",
   "mimetype": "text/x-python",
   "name": "python",
   "nbconvert_exporter": "python",
   "pygments_lexer": "ipython3",
   "version": "3.10.8"
  },
  "orig_nbformat": 4,
  "vscode": {
   "interpreter": {
    "hash": "fd46daa45be38af9b17270160ad4c0c0c96408b9434e6adafbdcc4ce6f2bf818"
   }
  }
 },
 "nbformat": 4,
 "nbformat_minor": 2
}
