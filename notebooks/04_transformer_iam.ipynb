{
 "cells": [
  {
   "cell_type": "code",
   "execution_count": 1,
   "metadata": {},
   "outputs": [],
   "source": [
    "import os\n",
    "import sys\n",
    "\n",
    "# Append python path - needed to import text_recognizer\n",
    "module_path = os.path.abspath(os.path.join('..'))\n",
    "if module_path not in sys.path:\n",
    "    sys.path.append(module_path)"
   ]
  },
  {
   "cell_type": "code",
   "execution_count": 2,
   "metadata": {},
   "outputs": [
    {
     "name": "stderr",
     "output_type": "stream",
     "text": [
      "/Users/niall.turbitt/opt/anaconda3/envs/text-recognizer/lib/python3.10/site-packages/tqdm/auto.py:22: TqdmWarning: IProgress not found. Please update jupyter and ipywidgets. See https://ipywidgets.readthedocs.io/en/stable/user_install.html\n",
      "  from .autonotebook import tqdm as notebook_tqdm\n"
     ]
    }
   ],
   "source": [
    "import text_recognizer.data"
   ]
  },
  {
   "cell_type": "code",
   "execution_count": 3,
   "metadata": {},
   "outputs": [
    {
     "name": "stderr",
     "output_type": "stream",
     "text": [
      "IAMParagraphs.prepare_data: Cropping IAM paragraph regions and saving them along with labels...\n"
     ]
    },
    {
     "ename": "FileNotFoundError",
     "evalue": "[Errno 2] No such file or directory: '/Users/niall.turbitt/Projects/text-recognizer/data/raw/iam/metadata.toml'",
     "output_type": "error",
     "traceback": [
      "\u001b[0;31m---------------------------------------------------------------------------\u001b[0m",
      "\u001b[0;31mFileNotFoundError\u001b[0m                         Traceback (most recent call last)",
      "Cell \u001b[0;32mIn[3], line 3\u001b[0m\n\u001b[1;32m      1\u001b[0m iam_paragraphs \u001b[39m=\u001b[39m text_recognizer\u001b[39m.\u001b[39mdata\u001b[39m.\u001b[39mIAMParagraphs()\n\u001b[0;32m----> 3\u001b[0m iam_paragraphs\u001b[39m.\u001b[39;49mprepare_data()\n\u001b[1;32m      4\u001b[0m iam_paragraphs\u001b[39m.\u001b[39msetup()\n\u001b[1;32m      5\u001b[0m xs, ys \u001b[39m=\u001b[39m \u001b[39mnext\u001b[39m(\u001b[39miter\u001b[39m(iam_paragraphs\u001b[39m.\u001b[39mval_dataloader()))\n",
      "File \u001b[0;32m~/Projects/text-recognizer/text_recognizer/data/iam_paragraphs.py:53\u001b[0m, in \u001b[0;36mIAMParagraphs.prepare_data\u001b[0;34m(self, *args, **kwargs)\u001b[0m\n\u001b[1;32m     48\u001b[0m     \u001b[39mreturn\u001b[39;00m\n\u001b[1;32m     49\u001b[0m rank_zero_info(\n\u001b[1;32m     50\u001b[0m     \u001b[39m\"\u001b[39m\u001b[39mIAMParagraphs.prepare_data: Cropping IAM paragraph regions and saving them along with labels...\u001b[39m\u001b[39m\"\u001b[39m\n\u001b[1;32m     51\u001b[0m )\n\u001b[0;32m---> 53\u001b[0m iam \u001b[39m=\u001b[39m IAM()\n\u001b[1;32m     54\u001b[0m iam\u001b[39m.\u001b[39mprepare_data()\n\u001b[1;32m     56\u001b[0m properties \u001b[39m=\u001b[39m {}\n",
      "File \u001b[0;32m~/Projects/text-recognizer/text_recognizer/data/iam.py:40\u001b[0m, in \u001b[0;36mIAM.__init__\u001b[0;34m(self)\u001b[0m\n\u001b[1;32m     39\u001b[0m \u001b[39mdef\u001b[39;00m \u001b[39m__init__\u001b[39m(\u001b[39mself\u001b[39m):\n\u001b[0;32m---> 40\u001b[0m     \u001b[39mself\u001b[39m\u001b[39m.\u001b[39mmetadata \u001b[39m=\u001b[39m toml\u001b[39m.\u001b[39;49mload(METADATA_FILENAME)\n",
      "File \u001b[0;32m~/opt/anaconda3/envs/text-recognizer/lib/python3.10/site-packages/toml/decoder.py:133\u001b[0m, in \u001b[0;36mload\u001b[0;34m(f, _dict, decoder)\u001b[0m\n\u001b[1;32m    114\u001b[0m \u001b[39m\"\"\"Parses named file or files as toml and returns a dictionary\u001b[39;00m\n\u001b[1;32m    115\u001b[0m \n\u001b[1;32m    116\u001b[0m \u001b[39mArgs:\u001b[39;00m\n\u001b[0;32m   (...)\u001b[0m\n\u001b[1;32m    129\u001b[0m \u001b[39m    (Python 2 / Python 3)          file paths is passed\u001b[39;00m\n\u001b[1;32m    130\u001b[0m \u001b[39m\"\"\"\u001b[39;00m\n\u001b[1;32m    132\u001b[0m \u001b[39mif\u001b[39;00m _ispath(f):\n\u001b[0;32m--> 133\u001b[0m     \u001b[39mwith\u001b[39;00m io\u001b[39m.\u001b[39;49mopen(_getpath(f), encoding\u001b[39m=\u001b[39;49m\u001b[39m'\u001b[39;49m\u001b[39mutf-8\u001b[39;49m\u001b[39m'\u001b[39;49m) \u001b[39mas\u001b[39;00m ffile:\n\u001b[1;32m    134\u001b[0m         \u001b[39mreturn\u001b[39;00m loads(ffile\u001b[39m.\u001b[39mread(), _dict, decoder)\n\u001b[1;32m    135\u001b[0m \u001b[39melif\u001b[39;00m \u001b[39misinstance\u001b[39m(f, \u001b[39mlist\u001b[39m):\n",
      "\u001b[0;31mFileNotFoundError\u001b[0m: [Errno 2] No such file or directory: '/Users/niall.turbitt/Projects/text-recognizer/data/raw/iam/metadata.toml'"
     ]
    }
   ],
   "source": [
    "iam_paragraphs = text_recognizer.data.IAMParagraphs()\n",
    "\n",
    "iam_paragraphs.prepare_data()\n",
    "iam_paragraphs.setup()\n",
    "xs, ys = next(iter(iam_paragraphs.val_dataloader()))\n",
    "\n",
    "iam_paragraphs"
   ]
  },
  {
   "cell_type": "code",
   "execution_count": null,
   "metadata": {},
   "outputs": [],
   "source": []
  }
 ],
 "metadata": {
  "kernelspec": {
   "display_name": "text-recognizer",
   "language": "python",
   "name": "python3"
  },
  "language_info": {
   "codemirror_mode": {
    "name": "ipython",
    "version": 3
   },
   "file_extension": ".py",
   "mimetype": "text/x-python",
   "name": "python",
   "nbconvert_exporter": "python",
   "pygments_lexer": "ipython3",
   "version": "3.10.8"
  },
  "orig_nbformat": 4,
  "vscode": {
   "interpreter": {
    "hash": "fd46daa45be38af9b17270160ad4c0c0c96408b9434e6adafbdcc4ce6f2bf818"
   }
  }
 },
 "nbformat": 4,
 "nbformat_minor": 2
}
