{
 "cells": [
  {
   "cell_type": "code",
   "execution_count": 24,
   "metadata": {},
   "outputs": [],
   "source": [
    "import os\n",
    "import sys"
   ]
  },
  {
   "cell_type": "code",
   "execution_count": 25,
   "metadata": {},
   "outputs": [],
   "source": [
    "# Append python path - needed to import text_recognizer\n",
    "module_path = os.path.abspath(os.path.join('..'))\n",
    "if module_path not in sys.path:\n",
    "    sys.path.append(module_path)"
   ]
  },
  {
   "cell_type": "code",
   "execution_count": 26,
   "metadata": {},
   "outputs": [
    {
     "name": "stdout",
     "output_type": "stream",
     "text": [
      "EMNIST dataset of handwritten characters and digits.\n",
      "\n",
      "    \"The EMNIST dataset is a set of handwritten character digits derived from the NIST Special Database 19\n",
      "    and converted to a 28x28 pixel image format and dataset structure that directly matches the MNIST dataset.\"\n",
      "    From https://www.nist.gov/itl/iad/image-group/emnist-dataset\n",
      "\n",
      "    The data split we will use is\n",
      "    EMNIST ByClass: 814,255 characters. 62 unbalanced classes.\n",
      "    \n"
     ]
    }
   ],
   "source": [
    "import text_recognizer.data\n",
    "\n",
    "# Configure\n",
    "emnist = text_recognizer.data.EMNIST()\n",
    "print(emnist.__doc__)"
   ]
  },
  {
   "cell_type": "code",
   "execution_count": 27,
   "metadata": {},
   "outputs": [
    {
     "name": "stdout",
     "output_type": "stream",
     "text": [
      "Unzipping EMNIST...\n",
      "Loading training data from .mat file\n",
      "Balancing classes to reduce amount of data\n",
      "Saving to HDF5 in a compressed format...\n",
      "Saving essential dataset parameters to text_recognizer/data...\n",
      "Cleaning up...\n"
     ]
    }
   ],
   "source": [
    "emnist.prepare_data()  # download, save to disk\n",
    "emnist.setup()  # create torch.utils.data.Datasets, create train/val split\n"
   ]
  },
  {
   "cell_type": "code",
   "execution_count": 28,
   "metadata": {},
   "outputs": [],
   "source": [
    "x, y = next(iter(emnist.train_dataloader()))"
   ]
  },
  {
   "cell_type": "code",
   "execution_count": 29,
   "metadata": {},
   "outputs": [
    {
     "name": "stdout",
     "output_type": "stream",
     "text": [
      "I\n"
     ]
    },
    {
     "data": {
      "text/plain": [
       "<matplotlib.image.AxesImage at 0x7f86498cd870>"
      ]
     },
     "execution_count": 29,
     "metadata": {},
     "output_type": "execute_result"
    },
    {
     "data": {
      "image/png": "[encoded data removed]",
      "text/plain": [
       "<Figure size 640x480 with 1 Axes>"
      ]
     },
     "metadata": {},
     "output_type": "display_data"
    }
   ],
   "source": [
    "import random\n",
    "import matplotlib.pyplot as plt\n",
    "\n",
    "\n",
    "idx = random.randint(0, len(x) - 1)\n",
    "\n",
    "print(emnist.mapping[y[idx]])\n",
    "plt.imshow(x[idx].view(28,28))"
   ]
  },
  {
   "cell_type": "code",
   "execution_count": null,
   "metadata": {},
   "outputs": [],
   "source": []
  }
 ],
 "metadata": {
  "kernelspec": {
   "display_name": "text-recognizer",
   "language": "python",
   "name": "python3"
  },
  "language_info": {
   "codemirror_mode": {
    "name": "ipython",
    "version": 3
   },
   "file_extension": ".py",
   "mimetype": "text/x-python",
   "name": "python",
   "nbconvert_exporter": "python",
   "pygments_lexer": "ipython3",
   "version": "3.10.8"
  },
  "orig_nbformat": 4,
  "vscode": {
   "interpreter": {
    "hash": "fd46daa45be38af9b17270160ad4c0c0c96408b9434e6adafbdcc4ce6f2bf818"
   }
  }
 },
 "nbformat": 4,
 "nbformat_minor": 2
}
