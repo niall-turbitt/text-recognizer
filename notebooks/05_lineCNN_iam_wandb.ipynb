{
 "cells": [
  {
   "cell_type": "code",
   "execution_count": 1,
   "metadata": {},
   "outputs": [
    {
     "name": "stderr",
     "output_type": "stream",
     "text": [
      "/Users/niall.turbitt/opt/anaconda3/envs/text-recognizer/lib/python3.10/site-packages/tqdm/auto.py:22: TqdmWarning: IProgress not found. Please update jupyter and ipywidgets. See https://ipywidgets.readthedocs.io/en/stable/user_install.html\n",
      "  from .autonotebook import tqdm as notebook_tqdm\n"
     ]
    }
   ],
   "source": [
    "%reload_ext autoreload\n",
    "\n",
    "import os\n",
    "import sys\n",
    "import random\n",
    "\n",
    "import torch\n",
    "import numpy as np\n",
    "import matplotlib.pyplot as plt\n",
    "\n",
    "# Append python path - needed to import text_recognizer\n",
    "module_path = os.path.abspath(os.path.join('..'))\n",
    "if module_path not in sys.path:\n",
    "    sys.path.append(module_path)"
   ]
  },
  {
   "cell_type": "code",
   "execution_count": 2,
   "metadata": {},
   "outputs": [
    {
     "ename": "AttributeError",
     "evalue": "module 'text_recognizer.data' has no attribute 'IAMLines'",
     "output_type": "error",
     "traceback": [
      "\u001b[0;31m---------------------------------------------------------------------------\u001b[0m",
      "\u001b[0;31mAttributeError\u001b[0m                            Traceback (most recent call last)",
      "File \u001b[0;32m~/Projects/text-recognizer/training/run_experiment.py:153\u001b[0m\n\u001b[1;32m    149\u001b[0m         trainer\u001b[39m.\u001b[39mtest(lit_model, datamodule\u001b[39m=\u001b[39mdata)\n\u001b[1;32m    152\u001b[0m \u001b[39mif\u001b[39;00m \u001b[39m__name__\u001b[39m \u001b[39m==\u001b[39m \u001b[39m\"\u001b[39m\u001b[39m__main__\u001b[39m\u001b[39m\"\u001b[39m:\n\u001b[0;32m--> 153\u001b[0m     main()\n",
      "File \u001b[0;32m~/Projects/text-recognizer/training/run_experiment.py:99\u001b[0m, in \u001b[0;36mmain\u001b[0;34m()\u001b[0m\n\u001b[1;32m     76\u001b[0m \u001b[39mdef\u001b[39;00m \u001b[39mmain\u001b[39m():\n\u001b[1;32m     77\u001b[0m     \u001b[39m\"\"\"\u001b[39;00m\n\u001b[1;32m     78\u001b[0m \u001b[39m    Run an experiment.\u001b[39;00m\n\u001b[1;32m     79\u001b[0m \n\u001b[0;32m   (...)\u001b[0m\n\u001b[1;32m     96\u001b[0m \u001b[39m    ```\u001b[39;00m\n\u001b[1;32m     97\u001b[0m \u001b[39m    \"\"\"\u001b[39;00m\n\u001b[0;32m---> 99\u001b[0m     parser \u001b[39m=\u001b[39m _setup_parser()\n\u001b[1;32m    100\u001b[0m     args \u001b[39m=\u001b[39m parser\u001b[39m.\u001b[39mparse_args()\n\u001b[1;32m    102\u001b[0m     data, model \u001b[39m=\u001b[39m setup_data_and_model_from_args(args)\n",
      "File \u001b[0;32m~/Projects/text-recognizer/training/run_experiment.py:53\u001b[0m, in \u001b[0;36m_setup_parser\u001b[0;34m()\u001b[0m\n\u001b[1;32m     51\u001b[0m \u001b[39m# Get the data and model classes, so that we can add their specific arguments\u001b[39;00m\n\u001b[1;32m     52\u001b[0m temp_args, _ \u001b[39m=\u001b[39m parser\u001b[39m.\u001b[39mparse_known_args()\n\u001b[0;32m---> 53\u001b[0m data_class \u001b[39m=\u001b[39m import_class(\u001b[39mf\u001b[39;49m\u001b[39m\"\u001b[39;49m\u001b[39m{\u001b[39;49;00mDATA_CLASS_MODULE\u001b[39m}\u001b[39;49;00m\u001b[39m.\u001b[39;49m\u001b[39m{\u001b[39;49;00mtemp_args\u001b[39m.\u001b[39;49mdata_class\u001b[39m}\u001b[39;49;00m\u001b[39m\"\u001b[39;49m)\n\u001b[1;32m     54\u001b[0m model_class \u001b[39m=\u001b[39m import_class(\u001b[39mf\u001b[39m\u001b[39m\"\u001b[39m\u001b[39m{\u001b[39;00mMODEL_CLASS_MODULE\u001b[39m}\u001b[39;00m\u001b[39m.\u001b[39m\u001b[39m{\u001b[39;00mtemp_args\u001b[39m.\u001b[39mmodel_class\u001b[39m}\u001b[39;00m\u001b[39m\"\u001b[39m)\n\u001b[1;32m     56\u001b[0m \u001b[39m# Get data, model, and LitModel specific arguments\u001b[39;00m\n",
      "File \u001b[0;32m~/Projects/text-recognizer/training/util.py:13\u001b[0m, in \u001b[0;36mimport_class\u001b[0;34m(module_and_class_name)\u001b[0m\n\u001b[1;32m     11\u001b[0m module_name, class_name \u001b[39m=\u001b[39m module_and_class_name\u001b[39m.\u001b[39mrsplit(\u001b[39m\"\u001b[39m\u001b[39m.\u001b[39m\u001b[39m\"\u001b[39m, \u001b[39m1\u001b[39m)\n\u001b[1;32m     12\u001b[0m module \u001b[39m=\u001b[39m importlib\u001b[39m.\u001b[39mimport_module(module_name)\n\u001b[0;32m---> 13\u001b[0m class_ \u001b[39m=\u001b[39m \u001b[39mgetattr\u001b[39;49m(module, class_name)\n\u001b[1;32m     14\u001b[0m \u001b[39mreturn\u001b[39;00m class_\n",
      "\u001b[0;31mAttributeError\u001b[0m: module 'text_recognizer.data' has no attribute 'IAMLines'"
     ]
    }
   ],
   "source": [
    "%run ../training/run_experiment.py --model_class LineCNNTransformer --data_class IAMLines \\\n",
    "  --loss transformer --batch_size 32  --max_epochs 2 \\\n",
    "  --limit_train_batches 0.1 --limit_val_batches 0.1 --limit_test_batches 0.1 --log_every_n_steps 10"
   ]
  },
  {
   "cell_type": "code",
   "execution_count": null,
   "metadata": {},
   "outputs": [],
   "source": []
  }
 ],
 "metadata": {
  "kernelspec": {
   "display_name": "text-recognizer",
   "language": "python",
   "name": "python3"
  },
  "language_info": {
   "codemirror_mode": {
    "name": "ipython",
    "version": 3
   },
   "file_extension": ".py",
   "mimetype": "text/x-python",
   "name": "python",
   "nbconvert_exporter": "python",
   "pygments_lexer": "ipython3",
   "version": "3.10.8"
  },
  "orig_nbformat": 4,
  "vscode": {
   "interpreter": {
    "hash": "fd46daa45be38af9b17270160ad4c0c0c96408b9434e6adafbdcc4ce6f2bf818"
   }
  }
 },
 "nbformat": 4,
 "nbformat_minor": 2
}
