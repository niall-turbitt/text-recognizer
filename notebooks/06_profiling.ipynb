{
 "cells": [
  {
   "cell_type": "code",
   "execution_count": 1,
   "metadata": {},
   "outputs": [],
   "source": [
    "%reload_ext autoreload\n",
    "\n",
    "import os\n",
    "import sys\n",
    "\n",
    "# Append python path - needed to import text_recognizer\n",
    "module_path = os.path.abspath(os.path.join('..'))\n",
    "if module_path not in sys.path:\n",
    "    sys.path.append(module_path)"
   ]
  },
  {
   "cell_type": "code",
   "execution_count": 2,
   "metadata": {},
   "outputs": [
    {
     "name": "stderr",
     "output_type": "stream",
     "text": [
      "/Users/niall.turbitt/opt/anaconda3/envs/text-recognizer/lib/python3.10/site-packages/tqdm/auto.py:22: TqdmWarning: IProgress not found. Please update jupyter and ipywidgets. See https://ipywidgets.readthedocs.io/en/stable/user_install.html\n",
      "  from .autonotebook import tqdm as notebook_tqdm\n"
     ]
    }
   ],
   "source": [
    "import glob\n",
    "\n",
    "import torch\n",
    "import pytorch_lightning\n",
    "import wandb\n",
    "\n",
    "from text_recognizer.data.base_data_module import DEFAULT_NUM_WORKERS"
   ]
  },
  {
   "cell_type": "code",
   "execution_count": 3,
   "metadata": {},
   "outputs": [
    {
     "name": "stdout",
     "output_type": "stream",
     "text": [
      "env: WANDB_JOB_TYPE=profile\n"
     ]
    }
   ],
   "source": [
    "# make it easier to separate these from training runs\n",
    "%env WANDB_JOB_TYPE=profile\n",
    "\n",
    "batch_size = 16\n",
    "num_workers = DEFAULT_NUM_WORKERS  # change this number later and see how the results change"
   ]
  },
  {
   "cell_type": "code",
   "execution_count": 4,
   "metadata": {},
   "outputs": [
    {
     "name": "stderr",
     "output_type": "stream",
     "text": [
      "Missing logger folder: training/logs/lightning_logs\n",
      "ERROR:wandb.jupyter:Failed to detect the name of this notebook, you can set it manually with the WANDB_NOTEBOOK_NAME environment variable to enable code saving.\n",
      "\u001b[34m\u001b[1mwandb\u001b[0m: Currently logged in as: \u001b[33mniall-turbitt\u001b[0m. Use \u001b[1m`wandb login --relogin`\u001b[0m to force relogin\n"
     ]
    },
    {
     "data": {
      "text/html": [
       "Tracking run with wandb version 0.13.7"
      ],
      "text/plain": [
       "<IPython.core.display.HTML object>"
      ]
     },
     "metadata": {},
     "output_type": "display_data"
    },
    {
     "data": {
      "text/html": [
       "Run data is saved locally in <code>training/logs/wandb/run-20230105_104103-1rx69x3x</code>"
      ],
      "text/plain": [
       "<IPython.core.display.HTML object>"
      ]
     },
     "metadata": {},
     "output_type": "display_data"
    },
    {
     "data": {
      "text/html": [
       "Syncing run <strong><a href=\"https://wandb.ai/niall-turbitt/lightning_logs/runs/1rx69x3x\" target=\"_blank\">rich-moon-13</a></strong> to <a href=\"https://wandb.ai/niall-turbitt/lightning_logs\" target=\"_blank\">Weights & Biases</a> (<a href=\"https://wandb.me/run\" target=\"_blank\">docs</a>)<br/>"
      ],
      "text/plain": [
       "<IPython.core.display.HTML object>"
      ]
     },
     "metadata": {},
     "output_type": "display_data"
    },
    {
     "name": "stderr",
     "output_type": "stream",
     "text": [
      "\u001b[34m\u001b[1mwandb\u001b[0m: logging graph, to disable use `wandb.watch(log_graph=False)`\n",
      "/Users/niall.turbitt/opt/anaconda3/envs/text-recognizer/lib/python3.10/site-packages/pytorch_lightning/trainer/connectors/accelerator_connector.py:702: UserWarning: You passed `Trainer(accelerator='cpu', precision=16)` but native AMP is not supported on CPU. Using `precision='bf16'` instead.\n",
      "  rank_zero_warn(\n",
      "Using bfloat16 Automatic Mixed Precision (AMP)\n",
      "Trainer already configured with model summary callbacks: [<class 'pytorch_lightning.callbacks.model_summary.ModelSummary'>]. Skipping setting a default `ModelSummary` callback.\n",
      "GPU available: False, used: False\n",
      "TPU available: False, using: 0 TPU cores\n",
      "IPU available: False, using: 0 IPUs\n",
      "HPU available: False, using: 0 HPUs\n",
      "IAMParagraphs.setup(fit): Loading IAM paragraph regions and lines...\n"
     ]
    },
    {
     "name": "stdout",
     "output_type": "stream",
     "text": [
      "Namespace(logger=True, enable_checkpointing=True, default_root_dir=None, gradient_clip_val=None, gradient_clip_algorithm=None, num_nodes=1, num_processes=None, devices=None, gpus=None, auto_select_gpus=False, tpu_cores=None, ipus=None, enable_progress_bar=True, overfit_batches=0.0, track_grad_norm=-1, check_val_every_n_epoch=1, fast_dev_run=False, accumulate_grad_batches=None, max_epochs=1, min_epochs=None, max_steps=-1, min_steps=None, max_time=None, limit_train_batches=None, limit_val_batches=0, limit_test_batches=0, limit_predict_batches=None, val_check_interval=None, log_every_n_steps=50, accelerator=None, strategy=None, sync_batchnorm=False, precision=16, enable_model_summary=True, num_sanity_val_steps=0, resume_from_checkpoint=None, profiler=None, benchmark=None, deterministic=None, reload_dataloaders_every_n_epochs=0, auto_lr_find=False, replace_sampler_ddp=True, detect_anomaly=False, auto_scale_batch_size=False, plugins=None, amp_backend='native', amp_level=None, move_metrics_to_cpu=False, multiple_trainloader_mode='max_size_cycle', inference_mode=True, data_class='IAMParagraphs', model_class='LineCNNTransformer', load_checkpoint=None, stop_early=0, wandb=True, profile=True, batch_size=16, num_workers=12, augment_data='true', conv_dim=32, fc_dim=512, fc_dropout=0.2, window_width=16, window_stride=8, limit_output_length=False, tf_dim=256, tf_fc_dim=256, tf_dropout=0.4, tf_layers=4, tf_nhead=4, optimizer='Adam', lr=0.001, one_cycle_max_lr=None, one_cycle_total_steps=100, loss='transformer')\n"
     ]
    },
    {
     "name": "stderr",
     "output_type": "stream",
     "text": [
      "\n",
      "   | Name                      | Type               | Params\n",
      "------------------------------------------------------------------\n",
      "0  | model                     | LineCNNTransformer | 12.8 M\n",
      "1  | model.line_cnn            | LineCNN            | 10.1 M\n",
      "2  | model.embedding           | Embedding          | 21.5 K\n",
      "3  | model.fc                  | Linear             | 21.6 K\n",
      "4  | model.pos_encoder         | PositionalEncoding | 0     \n",
      "5  | model.transformer_decoder | TransformerDecoder | 2.6 M \n",
      "6  | train_acc                 | MulticlassAccuracy | 0     \n",
      "7  | val_acc                   | MulticlassAccuracy | 0     \n",
      "8  | test_acc                  | MulticlassAccuracy | 0     \n",
      "9  | val_cer                   | CharacterErrorRate | 0     \n",
      "10 | test_cer                  | CharacterErrorRate | 0     \n",
      "11 | loss_fn                   | CrossEntropyLoss   | 0     \n",
      "------------------------------------------------------------------\n",
      "12.8 M    Trainable params\n",
      "0         Non-trainable params\n",
      "12.8 M    Total params\n",
      "51.270    Total estimated model params size (MB)\n"
     ]
    },
    {
     "name": "stdout",
     "output_type": "stream",
     "text": [
      "Model State Dict Disk Size: 51.31 MB\n",
      "Epoch 0:   3%|▎         | 2/68 [21:31<11:50:19, 645.75s/it, loss=4.27, v_num=9x3x]"
     ]
    },
    {
     "name": "stderr",
     "output_type": "stream",
     "text": [
      "STAGE:2023-01-05 11:04:08 21525:3295790 ActivityProfilerController.cpp:294] Completed Stage: Warm Up\n"
     ]
    },
    {
     "name": "stdout",
     "output_type": "stream",
     "text": [
      "Epoch 0:   9%|▉         | 6/68 [45:04<7:45:50, 450.82s/it, loss=3.76, v_num=9x3x] "
     ]
    },
    {
     "name": "stderr",
     "output_type": "stream",
     "text": [
      "STAGE:2023-01-05 11:27:44 21525:3295790 ActivityProfilerController.cpp:300] Completed Stage: Collection\n",
      "[W collection.cpp:436] Warning: Optimizer.step#Adam.step (function operator())\n",
      "[W collection.cpp:436] Warning: [pl][profile][LightningModule]TransformerLitModel.optimizer_step (function operator())\n",
      "STAGE:2023-01-05 11:27:52 21525:3295790 output_json.cpp:417] Completed Stage: Post Processing\n"
     ]
    },
    {
     "name": "stdout",
     "output_type": "stream",
     "text": [
      "Epoch 0:  88%|████████▊ | 60/68 [7:56:30<1:03:32, 476.51s/it, loss=3.24, v_num=9x3x]"
     ]
    },
    {
     "name": "stderr",
     "output_type": "stream",
     "text": [
      "/Users/niall.turbitt/opt/anaconda3/envs/text-recognizer/lib/python3.10/site-packages/pytorch_lightning/trainer/call.py:48: UserWarning: Detected KeyboardInterrupt, attempting graceful shutdown...\n",
      "  rank_zero_warn(\"Detected KeyboardInterrupt, attempting graceful shutdown...\")\n",
      "IAMParagraphs.setup(test): Loading IAM paragraph regions and lines...\n"
     ]
    },
    {
     "name": "stderr",
     "output_type": "stream",
     "text": [
      "wandb: Network error (ConnectTimeout), entering retry loop.\n",
      "wandb: Network error (ConnectionError), entering retry loop.\n"
     ]
    }
   ],
   "source": [
    "%run ../training/run_experiment.py --wandb --profile \\\n",
    "  --max_epochs=1 \\\n",
    "  --num_sanity_val_steps=0 --limit_val_batches=0 --limit_test_batches=0 \\\n",
    "  --model_class=LineCNNTransformer --data_class=IAMParagraphs --loss=transformer \\\n",
    "  --batch_size={batch_size} --num_workers={num_workers} --precision=16 \n"
   ]
  },
  {
   "cell_type": "code",
   "execution_count": null,
   "metadata": {},
   "outputs": [],
   "source": [
    "\n",
    "latest_expt = wandb.run\n",
    "\n",
    "try:  # add execution trace to logged and versioned binaries\n",
    "    folder = wandb.run.dir\n",
    "    trace_matcher = wandb.run.dir + \"/*.pt.trace.json\"\n",
    "    trace_file = glob.glob(trace_matcher)[0]\n",
    "    trace_at = wandb.Artifact(name=f\"trace-{wandb.run.id}\", type=\"trace\")\n",
    "    trace_at.add_file(trace_file, name=\"training_step.pt.trace.json\")\n",
    "    wandb.log_artifact(trace_at)\n",
    "except IndexError:\n",
    "    print(\"trace not found\")\n",
    "\n",
    "wandb.finish()"
   ]
  },
  {
   "cell_type": "markdown",
   "metadata": {},
   "source": [
    "### NVIVDIA Nsight \n",
    "\n",
    "**Note**: requires testing"
   ]
  },
  {
   "attachments": {},
   "cell_type": "markdown",
   "metadata": {},
   "source": [
    "!nsys profile --trace cuda,osrt \\\n",
    "--output ../training/logs/nsight_sys/line_cnn_transformer \\\n",
    "--force-overwrite true \\\n",
    "python3 ../training/run_experiment.py \\\n",
    "--wandb --profile --nsight_sys \\\n",
    "--max_epochs=1 \\\n",
    "--num_sanity_val_steps=0 --limit_val_batches=0 --limit_test_batches=0 \\\n",
    "--model_class=LineCNNTransformer --data_class=IAMParagraphs --loss=transformer \\\n",
    "--batch_size={batch_size} --num_workers={num_workers} --precision=16 "
   ]
  }
 ],
 "metadata": {
  "kernelspec": {
   "display_name": "text-recognizer",
   "language": "python",
   "name": "python3"
  },
  "language_info": {
   "codemirror_mode": {
    "name": "ipython",
    "version": 3
   },
   "file_extension": ".py",
   "mimetype": "text/x-python",
   "name": "python",
   "nbconvert_exporter": "python",
   "pygments_lexer": "ipython3",
   "version": "3.10.8 (main, Nov 24 2022, 08:09:04) [Clang 14.0.6 ]"
  },
  "orig_nbformat": 4,
  "vscode": {
   "interpreter": {
    "hash": "fd46daa45be38af9b17270160ad4c0c0c96408b9434e6adafbdcc4ce6f2bf818"
   }
  }
 },
 "nbformat": 4,
 "nbformat_minor": 2
}
